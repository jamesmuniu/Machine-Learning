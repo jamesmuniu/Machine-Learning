{
 "cells": [
  {
   "cell_type": "code",
   "execution_count": 1,
   "metadata": {
    "collapsed": false
   },
   "outputs": [],
   "source": [
    "import requests\n",
    "from urllib import urlopen  #urlopen will be used to request a HTML page and return its content\n",
    "\n",
    "from bs4 import BeautifulSoup  #BeautifulSoup is a library that makes it easy to navigate in a HTML doc ie Iterate ove rows\n",
    "\n",
    "import pandas as pd  #Pandas will only be used in the tidying up of data. pandas is a library for data manipulation and analysis\n",
    "import re #This library provides regular expression matching operations"
   ]
  },
  {
   "cell_type": "code",
   "execution_count": 2,
   "metadata": {
    "collapsed": true
   },
   "outputs": [],
   "source": [
    "#Determine if a table_row is a beer entry\n",
    "def is_beer_entry(table_row):\n",
    "    row_cells = table_row.findAll(\"td\") #Returns exhaustive list of table rows\n",
    "    beer_id = get_beer_id(row_cells[0].text)  #determine if a row is a beer data entry is straightforward: \n",
    "    return (len(row_cells) == 8 and beer_id)  #the row needs to contain eight cells and the first cell must contain a valid numeric id.\n",
    "\n",
    "#Return the beer entry numerical identifier from the entry column\n",
    "def get_beer_id(cell_value):\n",
    "    r = re.match(\"^(\\d{1,4})\\.$\", cell_value)\n",
    "    if r and len(r.groups()) == 1:\n",
    "        beer_id = r.group(1)\n",
    "        return int(beer_id)\n",
    "    else:\n",
    "        return None\n",
    "    \n",
    "    "
   ]
  },
  {
   "cell_type": "code",
   "execution_count": 3,
   "metadata": {
    "collapsed": false
   },
   "outputs": [],
   "source": [
    "def get_all_beers(html_soup):\n",
    "    beers = []\n",
    "    all_rows_in_html_page = html_soup.findAll(\"tr\")\n",
    "    for table_row in all_rows_in_html_page:\n",
    "        if is_beer_entry(table_row):\n",
    "            row_cells = table_row.findAll(\"td\")\n",
    "            beer_entry = {\n",
    "                \"id\": get_beer_id(row_cells[0].text),\n",
    "                \"name\": row_cells[1].text,\n",
    "                \"brewery_name\": row_cells[2].text,\n",
    "                \"brewery_location\": row_cells[3].text,\n",
    "                \"style\": row_cells[4].text,\n",
    "                \"size\": row_cells[5].text,\n",
    "                \"abv\": row_cells[6].text,    \n",
    "                \"ibu\": row_cells[7].text\n",
    "            }\n",
    "            beers.append(beer_entry)\n",
    "    return beers\n",
    "\n",
    "html = urlopen(\"http://craftcans.com/db.php?search=all&sort=beerid&ord=desc&view=text\")\n",
    "html_soup = BeautifulSoup(html, 'html.parser')\n",
    "beers_list = get_all_beers(html_soup)"
   ]
  },
  {
   "cell_type": "code",
   "execution_count": 4,
   "metadata": {
    "collapsed": false
   },
   "outputs": [
    {
     "data": {
      "text/html": [
       "<div>\n",
       "<table border=\"1\" class=\"dataframe\">\n",
       "  <thead>\n",
       "    <tr style=\"text-align: right;\">\n",
       "      <th></th>\n",
       "      <th>abv</th>\n",
       "      <th>brewery_location</th>\n",
       "      <th>brewery_name</th>\n",
       "      <th>ibu</th>\n",
       "      <th>id</th>\n",
       "      <th>name</th>\n",
       "      <th>size</th>\n",
       "      <th>style</th>\n",
       "    </tr>\n",
       "  </thead>\n",
       "  <tbody>\n",
       "    <tr>\n",
       "      <th>0</th>\n",
       "      <td>5.0%</td>\n",
       "      <td>Chandler, AZ</td>\n",
       "      <td>SanTan Brewing Company</td>\n",
       "      <td>20</td>\n",
       "      <td>2707</td>\n",
       "      <td>Mr. Pineapple</td>\n",
       "      <td>12 oz.</td>\n",
       "      <td>Wheat Ale</td>\n",
       "    </tr>\n",
       "    <tr>\n",
       "      <th>1</th>\n",
       "      <td>8.2%</td>\n",
       "      <td>Cincinnati, OH</td>\n",
       "      <td>Christian Moerlein Brewing Company</td>\n",
       "      <td>70</td>\n",
       "      <td>2706</td>\n",
       "      <td>Handle Bar (Current)</td>\n",
       "      <td>12 oz.</td>\n",
       "      <td>American Stout</td>\n",
       "    </tr>\n",
       "    <tr>\n",
       "      <th>2</th>\n",
       "      <td>5.0%</td>\n",
       "      <td>Forest, VA</td>\n",
       "      <td>Apocalypse Ale Works</td>\n",
       "      <td>18</td>\n",
       "      <td>2705</td>\n",
       "      <td>Golden Censer</td>\n",
       "      <td>12 oz.</td>\n",
       "      <td>Wheat Ale</td>\n",
       "    </tr>\n",
       "    <tr>\n",
       "      <th>3</th>\n",
       "      <td>6.2%</td>\n",
       "      <td>Manassas, VA</td>\n",
       "      <td>Heritage Brewing Company</td>\n",
       "      <td>N/A</td>\n",
       "      <td>2704</td>\n",
       "      <td>Freedom Isn't Free</td>\n",
       "      <td>12 oz.</td>\n",
       "      <td>American IPA</td>\n",
       "    </tr>\n",
       "    <tr>\n",
       "      <th>4</th>\n",
       "      <td>7.4%</td>\n",
       "      <td>Manassas, VA</td>\n",
       "      <td>Heritage Brewing Company</td>\n",
       "      <td>115</td>\n",
       "      <td>2703</td>\n",
       "      <td>Kings Mountain</td>\n",
       "      <td>12 oz.</td>\n",
       "      <td>Scottish Ale</td>\n",
       "    </tr>\n",
       "  </tbody>\n",
       "</table>\n",
       "</div>"
      ],
      "text/plain": [
       "    abv brewery_location                        brewery_name  ibu    id  \\\n",
       "0  5.0%     Chandler, AZ              SanTan Brewing Company   20  2707   \n",
       "1  8.2%   Cincinnati, OH  Christian Moerlein Brewing Company   70  2706   \n",
       "2  5.0%       Forest, VA                Apocalypse Ale Works   18  2705   \n",
       "3  6.2%     Manassas, VA            Heritage Brewing Company  N/A  2704   \n",
       "4  7.4%     Manassas, VA            Heritage Brewing Company  115  2703   \n",
       "\n",
       "                   name    size           style  \n",
       "0         Mr. Pineapple  12 oz.       Wheat Ale  \n",
       "1  Handle Bar (Current)  12 oz.  American Stout  \n",
       "2         Golden Censer  12 oz.       Wheat Ale  \n",
       "3    Freedom Isn't Free  12 oz.    American IPA  \n",
       "4        Kings Mountain  12 oz.    Scottish Ale  "
      ]
     },
     "execution_count": 4,
     "metadata": {},
     "output_type": "execute_result"
    }
   ],
   "source": [
    "df = pd.DataFrame(beers_list)\n",
    "df.head(5)\n"
   ]
  },
  {
   "cell_type": "code",
   "execution_count": 5,
   "metadata": {
    "collapsed": false
   },
   "outputs": [
    {
     "data": {
      "text/html": [
       "<div>\n",
       "<table border=\"1\" class=\"dataframe\">\n",
       "  <thead>\n",
       "    <tr style=\"text-align: right;\">\n",
       "      <th></th>\n",
       "      <th>brewery_location</th>\n",
       "      <th>brewery_name</th>\n",
       "      <th>id</th>\n",
       "    </tr>\n",
       "  </thead>\n",
       "  <tbody>\n",
       "    <tr>\n",
       "      <th>0</th>\n",
       "      <td>Chandler, AZ</td>\n",
       "      <td>SanTan Brewing Company</td>\n",
       "      <td>0</td>\n",
       "    </tr>\n",
       "    <tr>\n",
       "      <th>1</th>\n",
       "      <td>Cincinnati, OH</td>\n",
       "      <td>Christian Moerlein Brewing Company</td>\n",
       "      <td>1</td>\n",
       "    </tr>\n",
       "    <tr>\n",
       "      <th>2</th>\n",
       "      <td>Forest, VA</td>\n",
       "      <td>Apocalypse Ale Works</td>\n",
       "      <td>2</td>\n",
       "    </tr>\n",
       "    <tr>\n",
       "      <th>3</th>\n",
       "      <td>Manassas, VA</td>\n",
       "      <td>Heritage Brewing Company</td>\n",
       "      <td>3</td>\n",
       "    </tr>\n",
       "    <tr>\n",
       "      <th>4</th>\n",
       "      <td>Hays, KS</td>\n",
       "      <td>Defiance Brewing Company</td>\n",
       "      <td>4</td>\n",
       "    </tr>\n",
       "  </tbody>\n",
       "</table>\n",
       "</div>"
      ],
      "text/plain": [
       "  brewery_location                        brewery_name  id\n",
       "0     Chandler, AZ              SanTan Brewing Company   0\n",
       "1   Cincinnati, OH  Christian Moerlein Brewing Company   1\n",
       "2       Forest, VA                Apocalypse Ale Works   2\n",
       "3     Manassas, VA            Heritage Brewing Company   3\n",
       "4         Hays, KS            Defiance Brewing Company   4"
      ]
     },
     "execution_count": 5,
     "metadata": {},
     "output_type": "execute_result"
    }
   ],
   "source": [
    "breweries = df[[\"brewery_location\", \"brewery_name\"]]\n",
    "breweries = breweries.drop_duplicates().reset_index(drop=True)\n",
    "breweries[\"id\"] = breweries.index\n",
    "breweries.head(5)\n"
   ]
  },
  {
   "cell_type": "code",
   "execution_count": 6,
   "metadata": {
    "collapsed": false
   },
   "outputs": [
    {
     "data": {
      "text/html": [
       "<div>\n",
       "<table border=\"1\" class=\"dataframe\">\n",
       "  <thead>\n",
       "    <tr style=\"text-align: right;\">\n",
       "      <th></th>\n",
       "      <th>abv</th>\n",
       "      <th>ibu</th>\n",
       "      <th>id</th>\n",
       "      <th>name</th>\n",
       "      <th>size</th>\n",
       "      <th>style</th>\n",
       "      <th>brewery_id</th>\n",
       "    </tr>\n",
       "  </thead>\n",
       "  <tbody>\n",
       "    <tr>\n",
       "      <th>0</th>\n",
       "      <td>5.0%</td>\n",
       "      <td>N/A</td>\n",
       "      <td>1436</td>\n",
       "      <td>Pub Beer</td>\n",
       "      <td>12 oz.</td>\n",
       "      <td>American Pale Lager</td>\n",
       "      <td>411</td>\n",
       "    </tr>\n",
       "    <tr>\n",
       "      <th>1</th>\n",
       "      <td>6.6%</td>\n",
       "      <td>N/A</td>\n",
       "      <td>2265</td>\n",
       "      <td>Devil's Cup</td>\n",
       "      <td>12 oz.</td>\n",
       "      <td>American Pale Ale (APA)</td>\n",
       "      <td>182</td>\n",
       "    </tr>\n",
       "    <tr>\n",
       "      <th>2</th>\n",
       "      <td>7.1%</td>\n",
       "      <td>N/A</td>\n",
       "      <td>2264</td>\n",
       "      <td>Rise of the Phoenix</td>\n",
       "      <td>12 oz.</td>\n",
       "      <td>American IPA</td>\n",
       "      <td>182</td>\n",
       "    </tr>\n",
       "    <tr>\n",
       "      <th>3</th>\n",
       "      <td>9.0%</td>\n",
       "      <td>N/A</td>\n",
       "      <td>2263</td>\n",
       "      <td>Sinister</td>\n",
       "      <td>12 oz.</td>\n",
       "      <td>American Double / Imperial IPA</td>\n",
       "      <td>182</td>\n",
       "    </tr>\n",
       "    <tr>\n",
       "      <th>4</th>\n",
       "      <td>7.5%</td>\n",
       "      <td>N/A</td>\n",
       "      <td>2262</td>\n",
       "      <td>Sex and Candy</td>\n",
       "      <td>12 oz.</td>\n",
       "      <td>American IPA</td>\n",
       "      <td>182</td>\n",
       "    </tr>\n",
       "  </tbody>\n",
       "</table>\n",
       "</div>"
      ],
      "text/plain": [
       "    abv  ibu    id                 name    size  \\\n",
       "0  5.0%  N/A  1436             Pub Beer  12 oz.   \n",
       "1  6.6%  N/A  2265          Devil's Cup  12 oz.   \n",
       "2  7.1%  N/A  2264  Rise of the Phoenix  12 oz.   \n",
       "3  9.0%  N/A  2263             Sinister  12 oz.   \n",
       "4  7.5%  N/A  2262        Sex and Candy  12 oz.   \n",
       "\n",
       "                            style  brewery_id  \n",
       "0             American Pale Lager         411  \n",
       "1         American Pale Ale (APA)         182  \n",
       "2                    American IPA         182  \n",
       "3  American Double / Imperial IPA         182  \n",
       "4                    American IPA         182  "
      ]
     },
     "execution_count": 6,
     "metadata": {},
     "output_type": "execute_result"
    }
   ],
   "source": [
    "beers = pd.merge(df,\n",
    "                 breweries,\n",
    "                 left_on=[\"brewery_name\", \"brewery_location\"],\n",
    "                 right_on=[\"brewery_name\", \"brewery_location\"],\n",
    "                 sort=True,\n",
    "                 suffixes=('_beer', '_brewery'))\n",
    "beers = beers[[\"abv\", \"ibu\", \"id_beer\",\n",
    "               \"name\", \"size\", \"style\", \"id_brewery\"]]\n",
    "beers_columns_rename = {\n",
    "    \"id_beer\": \"id\",\n",
    "    \"id_brewery\": \"brewery_id\"\n",
    "}\n",
    "beers.rename(inplace=True, columns=beers_columns_rename)\n",
    "beers.head(5)"
   ]
  },
  {
   "cell_type": "code",
   "execution_count": 8,
   "metadata": {
    "collapsed": false
   },
   "outputs": [
    {
     "ename": "KeyError",
     "evalue": "'brewery_location'",
     "output_type": "error",
     "traceback": [
      "\u001b[1;31m---------------------------------------------------------------------------\u001b[0m",
      "\u001b[1;31mKeyError\u001b[0m                                  Traceback (most recent call last)",
      "\u001b[1;32m<ipython-input-8-22f257e6206d>\u001b[0m in \u001b[0;36m<module>\u001b[1;34m()\u001b[0m\n\u001b[1;32m----> 1\u001b[1;33m breweries[\"city\"] = breweries[\"brewery_location\"].apply(\n\u001b[0m\u001b[0;32m      2\u001b[0m     lambda location: location.split(\",\")[0])\n\u001b[0;32m      3\u001b[0m breweries[\"state\"] = breweries[\"brewery_location\"].apply(\n\u001b[0;32m      4\u001b[0m     lambda location: location.split(\",\")[1])\n\u001b[0;32m      5\u001b[0m \u001b[0mbreweries\u001b[0m \u001b[1;33m=\u001b[0m \u001b[0mbreweries\u001b[0m\u001b[1;33m[\u001b[0m\u001b[1;33m[\u001b[0m\u001b[1;34m\"brewery_name\"\u001b[0m\u001b[1;33m,\u001b[0m \u001b[1;34m\"city\"\u001b[0m\u001b[1;33m,\u001b[0m \u001b[1;34m\"state\"\u001b[0m\u001b[1;33m]\u001b[0m\u001b[1;33m]\u001b[0m\u001b[1;33m\u001b[0m\u001b[0m\n",
      "\u001b[1;32m/home/james/anaconda2/lib/python2.7/site-packages/pandas/core/frame.pyc\u001b[0m in \u001b[0;36m__getitem__\u001b[1;34m(self, key)\u001b[0m\n\u001b[0;32m   1995\u001b[0m             \u001b[1;32mreturn\u001b[0m \u001b[0mself\u001b[0m\u001b[1;33m.\u001b[0m\u001b[0m_getitem_multilevel\u001b[0m\u001b[1;33m(\u001b[0m\u001b[0mkey\u001b[0m\u001b[1;33m)\u001b[0m\u001b[1;33m\u001b[0m\u001b[0m\n\u001b[0;32m   1996\u001b[0m         \u001b[1;32melse\u001b[0m\u001b[1;33m:\u001b[0m\u001b[1;33m\u001b[0m\u001b[0m\n\u001b[1;32m-> 1997\u001b[1;33m             \u001b[1;32mreturn\u001b[0m \u001b[0mself\u001b[0m\u001b[1;33m.\u001b[0m\u001b[0m_getitem_column\u001b[0m\u001b[1;33m(\u001b[0m\u001b[0mkey\u001b[0m\u001b[1;33m)\u001b[0m\u001b[1;33m\u001b[0m\u001b[0m\n\u001b[0m\u001b[0;32m   1998\u001b[0m \u001b[1;33m\u001b[0m\u001b[0m\n\u001b[0;32m   1999\u001b[0m     \u001b[1;32mdef\u001b[0m \u001b[0m_getitem_column\u001b[0m\u001b[1;33m(\u001b[0m\u001b[0mself\u001b[0m\u001b[1;33m,\u001b[0m \u001b[0mkey\u001b[0m\u001b[1;33m)\u001b[0m\u001b[1;33m:\u001b[0m\u001b[1;33m\u001b[0m\u001b[0m\n",
      "\u001b[1;32m/home/james/anaconda2/lib/python2.7/site-packages/pandas/core/frame.pyc\u001b[0m in \u001b[0;36m_getitem_column\u001b[1;34m(self, key)\u001b[0m\n\u001b[0;32m   2002\u001b[0m         \u001b[1;31m# get column\u001b[0m\u001b[1;33m\u001b[0m\u001b[1;33m\u001b[0m\u001b[0m\n\u001b[0;32m   2003\u001b[0m         \u001b[1;32mif\u001b[0m \u001b[0mself\u001b[0m\u001b[1;33m.\u001b[0m\u001b[0mcolumns\u001b[0m\u001b[1;33m.\u001b[0m\u001b[0mis_unique\u001b[0m\u001b[1;33m:\u001b[0m\u001b[1;33m\u001b[0m\u001b[0m\n\u001b[1;32m-> 2004\u001b[1;33m             \u001b[1;32mreturn\u001b[0m \u001b[0mself\u001b[0m\u001b[1;33m.\u001b[0m\u001b[0m_get_item_cache\u001b[0m\u001b[1;33m(\u001b[0m\u001b[0mkey\u001b[0m\u001b[1;33m)\u001b[0m\u001b[1;33m\u001b[0m\u001b[0m\n\u001b[0m\u001b[0;32m   2005\u001b[0m \u001b[1;33m\u001b[0m\u001b[0m\n\u001b[0;32m   2006\u001b[0m         \u001b[1;31m# duplicate columns & possible reduce dimensionality\u001b[0m\u001b[1;33m\u001b[0m\u001b[1;33m\u001b[0m\u001b[0m\n",
      "\u001b[1;32m/home/james/anaconda2/lib/python2.7/site-packages/pandas/core/generic.pyc\u001b[0m in \u001b[0;36m_get_item_cache\u001b[1;34m(self, item)\u001b[0m\n\u001b[0;32m   1348\u001b[0m         \u001b[0mres\u001b[0m \u001b[1;33m=\u001b[0m \u001b[0mcache\u001b[0m\u001b[1;33m.\u001b[0m\u001b[0mget\u001b[0m\u001b[1;33m(\u001b[0m\u001b[0mitem\u001b[0m\u001b[1;33m)\u001b[0m\u001b[1;33m\u001b[0m\u001b[0m\n\u001b[0;32m   1349\u001b[0m         \u001b[1;32mif\u001b[0m \u001b[0mres\u001b[0m \u001b[1;32mis\u001b[0m \u001b[0mNone\u001b[0m\u001b[1;33m:\u001b[0m\u001b[1;33m\u001b[0m\u001b[0m\n\u001b[1;32m-> 1350\u001b[1;33m             \u001b[0mvalues\u001b[0m \u001b[1;33m=\u001b[0m \u001b[0mself\u001b[0m\u001b[1;33m.\u001b[0m\u001b[0m_data\u001b[0m\u001b[1;33m.\u001b[0m\u001b[0mget\u001b[0m\u001b[1;33m(\u001b[0m\u001b[0mitem\u001b[0m\u001b[1;33m)\u001b[0m\u001b[1;33m\u001b[0m\u001b[0m\n\u001b[0m\u001b[0;32m   1351\u001b[0m             \u001b[0mres\u001b[0m \u001b[1;33m=\u001b[0m \u001b[0mself\u001b[0m\u001b[1;33m.\u001b[0m\u001b[0m_box_item_values\u001b[0m\u001b[1;33m(\u001b[0m\u001b[0mitem\u001b[0m\u001b[1;33m,\u001b[0m \u001b[0mvalues\u001b[0m\u001b[1;33m)\u001b[0m\u001b[1;33m\u001b[0m\u001b[0m\n\u001b[0;32m   1352\u001b[0m             \u001b[0mcache\u001b[0m\u001b[1;33m[\u001b[0m\u001b[0mitem\u001b[0m\u001b[1;33m]\u001b[0m \u001b[1;33m=\u001b[0m \u001b[0mres\u001b[0m\u001b[1;33m\u001b[0m\u001b[0m\n",
      "\u001b[1;32m/home/james/anaconda2/lib/python2.7/site-packages/pandas/core/internals.pyc\u001b[0m in \u001b[0;36mget\u001b[1;34m(self, item, fastpath)\u001b[0m\n\u001b[0;32m   3288\u001b[0m \u001b[1;33m\u001b[0m\u001b[0m\n\u001b[0;32m   3289\u001b[0m             \u001b[1;32mif\u001b[0m \u001b[1;32mnot\u001b[0m \u001b[0misnull\u001b[0m\u001b[1;33m(\u001b[0m\u001b[0mitem\u001b[0m\u001b[1;33m)\u001b[0m\u001b[1;33m:\u001b[0m\u001b[1;33m\u001b[0m\u001b[0m\n\u001b[1;32m-> 3290\u001b[1;33m                 \u001b[0mloc\u001b[0m \u001b[1;33m=\u001b[0m \u001b[0mself\u001b[0m\u001b[1;33m.\u001b[0m\u001b[0mitems\u001b[0m\u001b[1;33m.\u001b[0m\u001b[0mget_loc\u001b[0m\u001b[1;33m(\u001b[0m\u001b[0mitem\u001b[0m\u001b[1;33m)\u001b[0m\u001b[1;33m\u001b[0m\u001b[0m\n\u001b[0m\u001b[0;32m   3291\u001b[0m             \u001b[1;32melse\u001b[0m\u001b[1;33m:\u001b[0m\u001b[1;33m\u001b[0m\u001b[0m\n\u001b[0;32m   3292\u001b[0m                 \u001b[0mindexer\u001b[0m \u001b[1;33m=\u001b[0m \u001b[0mnp\u001b[0m\u001b[1;33m.\u001b[0m\u001b[0marange\u001b[0m\u001b[1;33m(\u001b[0m\u001b[0mlen\u001b[0m\u001b[1;33m(\u001b[0m\u001b[0mself\u001b[0m\u001b[1;33m.\u001b[0m\u001b[0mitems\u001b[0m\u001b[1;33m)\u001b[0m\u001b[1;33m)\u001b[0m\u001b[1;33m[\u001b[0m\u001b[0misnull\u001b[0m\u001b[1;33m(\u001b[0m\u001b[0mself\u001b[0m\u001b[1;33m.\u001b[0m\u001b[0mitems\u001b[0m\u001b[1;33m)\u001b[0m\u001b[1;33m]\u001b[0m\u001b[1;33m\u001b[0m\u001b[0m\n",
      "\u001b[1;32m/home/james/anaconda2/lib/python2.7/site-packages/pandas/indexes/base.pyc\u001b[0m in \u001b[0;36mget_loc\u001b[1;34m(self, key, method, tolerance)\u001b[0m\n\u001b[0;32m   1945\u001b[0m                 \u001b[1;32mreturn\u001b[0m \u001b[0mself\u001b[0m\u001b[1;33m.\u001b[0m\u001b[0m_engine\u001b[0m\u001b[1;33m.\u001b[0m\u001b[0mget_loc\u001b[0m\u001b[1;33m(\u001b[0m\u001b[0mkey\u001b[0m\u001b[1;33m)\u001b[0m\u001b[1;33m\u001b[0m\u001b[0m\n\u001b[0;32m   1946\u001b[0m             \u001b[1;32mexcept\u001b[0m \u001b[0mKeyError\u001b[0m\u001b[1;33m:\u001b[0m\u001b[1;33m\u001b[0m\u001b[0m\n\u001b[1;32m-> 1947\u001b[1;33m                 \u001b[1;32mreturn\u001b[0m \u001b[0mself\u001b[0m\u001b[1;33m.\u001b[0m\u001b[0m_engine\u001b[0m\u001b[1;33m.\u001b[0m\u001b[0mget_loc\u001b[0m\u001b[1;33m(\u001b[0m\u001b[0mself\u001b[0m\u001b[1;33m.\u001b[0m\u001b[0m_maybe_cast_indexer\u001b[0m\u001b[1;33m(\u001b[0m\u001b[0mkey\u001b[0m\u001b[1;33m)\u001b[0m\u001b[1;33m)\u001b[0m\u001b[1;33m\u001b[0m\u001b[0m\n\u001b[0m\u001b[0;32m   1948\u001b[0m \u001b[1;33m\u001b[0m\u001b[0m\n\u001b[0;32m   1949\u001b[0m         \u001b[0mindexer\u001b[0m \u001b[1;33m=\u001b[0m \u001b[0mself\u001b[0m\u001b[1;33m.\u001b[0m\u001b[0mget_indexer\u001b[0m\u001b[1;33m(\u001b[0m\u001b[1;33m[\u001b[0m\u001b[0mkey\u001b[0m\u001b[1;33m]\u001b[0m\u001b[1;33m,\u001b[0m \u001b[0mmethod\u001b[0m\u001b[1;33m=\u001b[0m\u001b[0mmethod\u001b[0m\u001b[1;33m,\u001b[0m \u001b[0mtolerance\u001b[0m\u001b[1;33m=\u001b[0m\u001b[0mtolerance\u001b[0m\u001b[1;33m)\u001b[0m\u001b[1;33m\u001b[0m\u001b[0m\n",
      "\u001b[1;32mpandas/index.pyx\u001b[0m in \u001b[0;36mpandas.index.IndexEngine.get_loc (pandas/index.c:4154)\u001b[1;34m()\u001b[0m\n",
      "\u001b[1;32mpandas/index.pyx\u001b[0m in \u001b[0;36mpandas.index.IndexEngine.get_loc (pandas/index.c:4018)\u001b[1;34m()\u001b[0m\n",
      "\u001b[1;32mpandas/hashtable.pyx\u001b[0m in \u001b[0;36mpandas.hashtable.PyObjectHashTable.get_item (pandas/hashtable.c:12368)\u001b[1;34m()\u001b[0m\n",
      "\u001b[1;32mpandas/hashtable.pyx\u001b[0m in \u001b[0;36mpandas.hashtable.PyObjectHashTable.get_item (pandas/hashtable.c:12322)\u001b[1;34m()\u001b[0m\n",
      "\u001b[1;31mKeyError\u001b[0m: 'brewery_location'"
     ]
    }
   ],
   "source": [
    "breweries[\"city\"] = breweries[\"brewery_location\"].apply(\n",
    "    lambda location: location.split(\",\")[0])\n",
    "breweries[\"state\"] = breweries[\"brewery_location\"].apply(\n",
    "    lambda location: location.split(\",\")[1])\n",
    "breweries = breweries[[\"brewery_name\", \"city\", \"state\"]]\n",
    "breweries.rename(inplace=True, columns={\"brewery_name\": \"name\"})"
   ]
  },
  {
   "cell_type": "code",
   "execution_count": null,
   "metadata": {
    "collapsed": true
   },
   "outputs": [],
   "source": []
  }
 ],
 "metadata": {
  "kernelspec": {
   "display_name": "Python [Root]",
   "language": "python",
   "name": "Python [Root]"
  },
  "language_info": {
   "codemirror_mode": {
    "name": "ipython",
    "version": 2
   },
   "file_extension": ".py",
   "mimetype": "text/x-python",
   "name": "python",
   "nbconvert_exporter": "python",
   "pygments_lexer": "ipython2",
   "version": "2.7.12"
  }
 },
 "nbformat": 4,
 "nbformat_minor": 0
}
